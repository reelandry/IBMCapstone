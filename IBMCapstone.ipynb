{
 "cells": [
  {
   "cell_type": "code",
   "execution_count": 1,
   "metadata": {
    "scrolled": false
   },
   "outputs": [],
   "source": [
    "%load_ext RWinOut"
   ]
  },
  {
   "cell_type": "code",
   "execution_count": 2,
   "metadata": {},
   "outputs": [],
   "source": [
    "%%R\n",
    "library(caret)\n",
    "library(dplyr)\n",
    "library(ggplot2)\n",
    "library(grid)\n",
    "library(gridExtra)\n",
    "library(pROC)\n",
    "library(randomForest)\n",
    "library(gbm)\n",
    "library(xgboost)\n",
    "library(AppliedPredictiveModeling)"
   ]
  },
  {
   "cell_type": "code",
   "execution_count": 3,
   "metadata": {},
   "outputs": [
    {
     "name": "stderr",
     "output_type": "stream",
     "text": [
      "Using TensorFlow backend.\n"
     ]
    }
   ],
   "source": [
    "import numpy as np\n",
    "from sklearn.ensemble import RandomForestClassifier as RFC\n",
    "from sklearn.tree import DecisionTreeClassifier as DTC\n",
    "from matplotlib import pyplot as plt\n",
    "%matplotlib inline\n",
    "import datetime\n",
    "import pandas as pd\n",
    "from sklearn import preprocessing as pp\n",
    "from sklearn.linear_model import LogisticRegression as LR\n",
    "from sklearn.neighbors import KNeighborsClassifier as KNN\n",
    "\n",
    "import keras\n",
    "from keras.models import Sequential\n",
    "from keras.layers import Dense, Activation\n",
    "from keras.utils import np_utils"
   ]
  },
  {
   "cell_type": "code",
   "execution_count": 4,
   "metadata": {},
   "outputs": [
    {
     "name": "stdout",
     "output_type": "stream",
     "text": [
      "[1] \"Number of data rows: 8124\"\n",
      "[1] \"Number of data columns: 23\"\n",
      "                                                                                                                                                                                                                                                                                                           V1\n",
      "1 class,cap-shape,cap-surface,cap-color,bruises,odor,gill-attachment,gill-spacing,gill-size,gill-color,stalk-shape,stalk-root,stalk-surface-above-ring,stalk-surface-below-ring,stalk-color-above-ring,stalk-color-below-ring,veil-type,veil-color,ring-number,ring-type,spore-print-color,population,habitat\n",
      "2                                                                                                                                                                                                                                                               p,x,s,n,t,p,f,c,n,k,e,e,s,s,w,w,p,w,o,p,k,s,u\n",
      "3                                                                                                                                                                                                                                                               e,x,s,y,t,a,f,c,b,k,e,c,s,s,w,w,p,w,o,p,n,n,g\n",
      "4                                                                                                                                                                                                                                                               e,b,s,w,t,l,f,c,b,n,e,c,s,s,w,w,p,w,o,p,n,n,m\n",
      "5                                                                                                                                                                                                                                                               p,x,y,w,t,p,f,c,n,n,e,e,s,s,w,w,p,w,o,p,k,s,u\n",
      "6                                                                                                                                                                                                                                                               e,x,s,g,f,n,f,w,b,k,t,e,s,s,w,w,p,w,o,e,n,a,g\n"
     ]
    }
   ],
   "source": [
    "%%R\n",
    "raw.data <- read.csv(\"E:/Documents/R/mushrooms.csv\")\n",
    "print(sprintf(\"Number of data rows: %d\", nrow(raw.data)))\n",
    "print(sprintf(\"Number of data columns: %d\", ncol(raw.data)))\n",
    "df <- read.table(\"mushrooms.csv\")\n",
    "head(df)"
   ]
  },
  {
   "cell_type": "code",
   "execution_count": 5,
   "metadata": {},
   "outputs": [
    {
     "name": "stdout",
     "output_type": "stream",
     "text": [
      "[1] \"Edible: 4208 | Poisonous: 3916 | Percent of poisonous classes: 51.8%\"\n"
     ]
    }
   ],
   "source": [
    "%%R\n",
    "class <- plyr::count(raw.data$class)\n",
    "print(\n",
    "    sprintf(\n",
    "        \"Edible: %d | Poisonous: %d | Percent of poisonous classes: %.1f%%\",\n",
    "        class$freq[1],\n",
    "        class$freq[2],\n",
    "        round(class$freq[1] / nrow(raw.data) * 100, 1)\n",
    "    )\n",
    ")"
   ]
  },
  {
   "cell_type": "code",
   "execution_count": 6,
   "metadata": {},
   "outputs": [],
   "source": [
    "%%R\n",
    "m.data = raw.data[, 2:23]\n",
    "m.class = raw.data[, 1]\n",
    "m.data <- sapply(m.data, function (x)\n",
    "    as.numeric(as.factor(x)))\n"
   ]
  },
  {
   "cell_type": "code",
   "execution_count": 7,
   "metadata": {},
   "outputs": [
    {
     "name": "stdout",
     "output_type": "stream",
     "text": [
      "png \n",
      "  2 \n"
     ]
    }
   ],
   "source": [
    "%%R\n",
    "pdf(\"r1plot.pdf\",\n",
    "    width = 8,\n",
    "    height = 10,\n",
    "    paper = 'special')\n",
    "transparentTheme(trans = .9)\n",
    "scales <-\n",
    "    list(\n",
    "        x = list(relation = \"free\"),\n",
    "        y = list(relation = \"free\"),\n",
    "        cex = 0.6\n",
    "    )\n",
    "gp <- featurePlot(\n",
    "    x = m.data,\n",
    "    y = m.class,\n",
    "    plot = \"density\",\n",
    "    scales = scales,\n",
    "    layout = c(4, 6),\n",
    "    auto.key = list(columns = 2),\n",
    "    adjust = 1.5,\n",
    "    pch = \"|\"\n",
    ")\n",
    "print(gp)\n",
    "dev.off()"
   ]
  },
  {
   "cell_type": "code",
   "execution_count": 8,
   "metadata": {},
   "outputs": [
    {
     "data": {
      "image/png": "[encoded data removed]"
     },
     "metadata": {},
     "output_type": "display_data"
    }
   ],
   "source": [
    "%%R\n",
    "featurePlot(\n",
    "    x = m.data,\n",
    "    y = m.class,\n",
    "    plot = \"density\",\n",
    "    scales = scales,\n",
    "    layout = c(4, 6),\n",
    "    auto.key = list(columns = 2),\n",
    "    adjust = 1.5,\n",
    "    pch = \"|\"\n",
    ")"
   ]
  },
  {
   "cell_type": "code",
   "execution_count": 9,
   "metadata": {},
   "outputs": [],
   "source": [
    "%%R\n",
    "df <-\n",
    "    data.frame(sapply(raw.data, function (x)\n",
    "        as.numeric(as.factor(x))))\n",
    "df$class <- df$class - 1\n",
    "nrows <- nrow(df)\n",
    "set.seed(314)\n",
    "indexT <- sample(1:nrow(df), 0.7 * nrows)"
   ]
  },
  {
   "cell_type": "code",
   "execution_count": 10,
   "metadata": {},
   "outputs": [],
   "source": [
    "%%R\n",
    "trainset = df[indexT,]\n",
    "testset =   df[-indexT,]\n",
    "n <- names(trainset)\n",
    "\n",
    "rf.form <-\n",
    "    as.formula(paste(\"class ~\", paste(n[!n %in% \"class\"], collapse = \" + \")))\n",
    "trainset.rf <-\n",
    "    randomForest(rf.form, trainset, ntree = 100, importance =\n",
    "                     T)"
   ]
  },
  {
   "cell_type": "code",
   "execution_count": 11,
   "metadata": {},
   "outputs": [],
   "source": [
    "%%R\n",
    "varimp <- data.frame(trainset.rf$importance)"
   ]
  },
  {
   "cell_type": "code",
   "execution_count": 12,
   "metadata": {},
   "outputs": [
    {
     "name": "stdout",
     "output_type": "stream",
     "text": [
      "TableGrob (1 x 2) \"arrange\": 2 grobs\n",
      "  z     cells    name           grob\n",
      "1 1 (1-1,1-1) arrange gtable[layout]\n",
      "2 2 (1-1,2-2) arrange gtable[layout]\n",
      "png \n",
      "  2 \n"
     ]
    }
   ],
   "source": [
    "%%R\n",
    "pdf(\"r2plot.pdf\",\n",
    "    width = 8,\n",
    "    height = 10,\n",
    "    paper = 'special')\n",
    "transparentTheme(trans = .9)\n",
    "vi1 <-\n",
    "    ggplot(varimp, aes(x = reorder(rownames(varimp), IncNodePurity), y = IncNodePurity)) +\n",
    "    geom_bar(stat = \"identity\",\n",
    "             fill = \"red\",\n",
    "             colour = \"black\") +\n",
    "    coord_flip() + theme_bw(base_size = 8) +\n",
    "    labs(\n",
    "        title = \"Prediction using RandomForest with 100 trees\",\n",
    "        subtitle = \"Variable\n",
    " importance (IncNodePurity)\",\n",
    "        x = \"Variable\",\n",
    "        y = \"Variable importance (IncNodePurity)\"\n",
    "    )\n",
    "vi2 <-\n",
    "    ggplot(varimp, aes(x = reorder(rownames(varimp), X.IncMSE), y = X.IncMSE)) +\n",
    "    geom_bar(stat = \"identity\",\n",
    "             fill = \"blue\",\n",
    "             colour = \"black\") +\n",
    "    coord_flip() + theme_bw(base_size = 8) +\n",
    "    labs(\n",
    "        title = \"Prediction using RandomForest with 100 trees\",\n",
    "        subtitle = \"Variable importance (%IncMSE)\",\n",
    "        x = \"Variable\",\n",
    "        y = \"Variable importance (%IncMSE)\"\n",
    "    )\n",
    "gp <- grid.arrange(vi1, vi2, ncol = 2)\n",
    "print(gp)\n",
    "dev.off()"
   ]
  },
  {
   "cell_type": "code",
   "execution_count": 13,
   "metadata": {},
   "outputs": [
    {
     "data": {
      "image/png": "[encoded data removed]"
     },
     "metadata": {},
     "output_type": "display_data"
    }
   ],
   "source": [
    "%%R\n",
    "grid.arrange(vi1, vi2, ncol = 2)"
   ]
  },
  {
   "cell_type": "code",
   "execution_count": 14,
   "metadata": {},
   "outputs": [],
   "source": [
    "%%R\n",
    "testset$predicted <- round(predict(trainset.rf , testset), 0)\n",
    "testset_rf <- testset$predicted"
   ]
  },
  {
   "cell_type": "code",
   "execution_count": 15,
   "metadata": {},
   "outputs": [
    {
     "name": "stdout",
     "output_type": "stream",
     "text": [
      "png \n",
      "  2 \n"
     ]
    }
   ],
   "source": [
    "%%R\n",
    "tst <- data.frame(testset$predicted, testset$class)\n",
    "opts <- c(\"Predicted\", \"True\")\n",
    "names(tst) <- opts\n",
    "cf <- plyr::count(tst)\n",
    "cf[opts][cf[opts] == 0] <- \"P\"\n",
    "cf[opts][cf[opts] == 1] <- \"E\"\n",
    "pdf(\"r3plot.pdf\",\n",
    "    width = 8,\n",
    "    height = 10,\n",
    "    paper = 'special')\n",
    "transparentTheme(trans = .9)\n",
    "gp <- ggplot(data =  cf, mapping = aes(x = True, y = Predicted)) +\n",
    "    labs(title = \"Confusion matrix\", subtitle = \"Prediction using RandomForest with 100 trees\") +\n",
    "    geom_tile(aes(fill = freq), colour = \"grey\") +\n",
    "    geom_text(aes(label = sprintf(\"%1.0f\", freq)), vjust = 1) +\n",
    "    scale_fill_gradient(low = \"pink\", high = \"blue\") +\n",
    "    theme_bw() + theme(legend.position = \"none\")\n",
    "print(gp)\n",
    "dev.off()"
   ]
  },
  {
   "cell_type": "code",
   "execution_count": 16,
   "metadata": {},
   "outputs": [
    {
     "data": {
      "image/png": "[encoded data removed]"
     },
     "metadata": {},
     "output_type": "display_data"
    }
   ],
   "source": [
    "%%R\n",
    "ggplot(data =  cf, mapping = aes(x = True, y = Predicted)) +\n",
    "    labs(title = \"Confusion matrix\", subtitle = \"Prediction using RandomForest with 100 trees\") +\n",
    "    geom_tile(aes(fill = freq), colour = \"grey\") +\n",
    "    geom_text(aes(label = sprintf(\"%1.0f\", freq)), vjust = 1) +\n",
    "    scale_fill_gradient(low = \"pink\", high = \"blue\") +\n",
    "    theme_bw() + theme(legend.position = \"none\")"
   ]
  },
  {
   "cell_type": "code",
   "execution_count": 17,
   "metadata": {},
   "outputs": [
    {
     "name": "stdout",
     "output_type": "stream",
     "text": [
      "Confusion Matrix and Statistics\n",
      "\n",
      "          Reference\n",
      "Prediction    0    1\n",
      "         0 1264    0\n",
      "         1    0 1174\n",
      "                                     \n",
      "               Accuracy : 1          \n",
      "                 95% CI : (0.9985, 1)\n",
      "    No Information Rate : 0.5185     \n",
      "    P-Value [Acc > NIR] : < 2.2e-16  \n",
      "                                     \n",
      "                  Kappa : 1          \n",
      "                                     \n",
      " Mcnemar's Test P-Value : NA         \n",
      "                                     \n",
      "            Sensitivity : 1.0000     \n",
      "            Specificity : 1.0000     \n",
      "         Pos Pred Value : 1.0000     \n",
      "         Neg Pred Value : 1.0000     \n",
      "             Prevalence : 0.5185     \n",
      "         Detection Rate : 0.5185     \n",
      "   Detection Prevalence : 0.5185     \n",
      "      Balanced Accuracy : 1.0000     \n",
      "                                     \n",
      "       'Positive' Class : 0          \n",
      "                                     \n",
      "[1] \"Area under curve (AUC) : 1.000\"\n"
     ]
    }
   ],
   "source": [
    "%%R\n",
    "print(confusionMatrix(factor(testset$class), factor(testset$predicted)))\n",
    "print(sprintf(\n",
    "    \"Area under curve (AUC) : %.3f\",\n",
    "    auc(testset$class, testset$predicted)\n",
    "))"
   ]
  },
  {
   "cell_type": "code",
   "execution_count": 18,
   "metadata": {},
   "outputs": [],
   "source": [
    "%%R\n",
    "n <- names(trainset)\n",
    "gbm.form <-\n",
    "    as.formula(paste(\"class ~\", paste(n[!n %in% \"class\"], collapse = \" + \")))\n",
    "gbmCV = gbm(\n",
    "    formula = gbm.form,\n",
    "    distribution = \"bernoulli\",\n",
    "    data = trainset,\n",
    "    n.trees = 500,\n",
    "    shrinkage = .1,\n",
    "    n.minobsinnode = 15,\n",
    "    cv.folds = 5,\n",
    "    n.cores = 1\n",
    ")\n"
   ]
  },
  {
   "cell_type": "code",
   "execution_count": 19,
   "metadata": {},
   "outputs": [
    {
     "data": {
      "image/png": "[encoded data removed]"
     },
     "metadata": {},
     "output_type": "display_data"
    }
   ],
   "source": [
    "%%R\n",
    "optimalTreeNumberPredictionCV = gbm.perf(gbmCV)\n",
    "gbmTest = predict(\n",
    "    object = gbmCV,\n",
    "    newdata = testset,\n",
    "    n.trees = optimalTreeNumberPredictionCV,\n",
    "    type = \"response\"\n",
    ")\n",
    "testset$predicted <- round(gbmTest, 0)\n",
    "testset_gbm <- testset$predicted\n"
   ]
  },
  {
   "cell_type": "code",
   "execution_count": 20,
   "metadata": {},
   "outputs": [
    {
     "name": "stdout",
     "output_type": "stream",
     "text": [
      "png \n",
      "  2 \n"
     ]
    }
   ],
   "source": [
    "%%R\n",
    "tst <- data.frame(testset$predicted, testset$class)\n",
    "opts <- c(\"Predicted\", \"True\")\n",
    "names(tst) <- opts\n",
    "cf <- plyr::count(tst)\n",
    "cf[opts][cf[opts] == 0] <- \"P\"\n",
    "cf[opts][cf[opts] == 1] <- \"E\"\n",
    "pdf(\"r4plot.pdf\",\n",
    "    width = 8,\n",
    "    height = 10,\n",
    "    paper = 'special')\n",
    "transparentTheme(trans = .9)\n",
    "gp <- ggplot(data =  cf, mapping = aes(x = True, y = Predicted)) +\n",
    "    labs(\n",
    "        title = \"Confusion matrix\",\n",
    "        subtitle = sprintf(\n",
    "            \"Prediction using GBM (%d trees)\",\n",
    "            optimalTreeNumberPredictionCV\n",
    "        )\n",
    "    ) +\n",
    "    geom_tile(aes(fill = freq), colour = \"grey\") +\n",
    "    geom_text(aes(label = sprintf(\"%1.0f\", freq)), vjust = 1) +\n",
    "    scale_fill_gradient(low = \"pink\", high = \"blue\") +\n",
    "    theme_bw() + theme(legend.position = \"none\")\n",
    "print(gp)\n",
    "dev.off()\n"
   ]
  },
  {
   "cell_type": "code",
   "execution_count": 21,
   "metadata": {},
   "outputs": [
    {
     "data": {
      "image/png": "[encoded data removed]"
     },
     "metadata": {},
     "output_type": "display_data"
    }
   ],
   "source": [
    "%%R\n",
    "ggplot(data =  cf, mapping = aes(x = True, y = Predicted)) +\n",
    "    labs(\n",
    "        title = \"Confusion matrix\",\n",
    "        subtitle = sprintf(\n",
    "            \"Prediction using GBM (%d trees)\",\n",
    "            optimalTreeNumberPredictionCV\n",
    "        )\n",
    "    ) +\n",
    "    geom_tile(aes(fill = freq), colour = \"grey\") +\n",
    "    geom_text(aes(label = sprintf(\"%1.0f\", freq)), vjust = 1) +\n",
    "    scale_fill_gradient(low = \"pink\", high = \"blue\") +\n",
    "    theme_bw() + theme(legend.position = \"none\")"
   ]
  },
  {
   "cell_type": "code",
   "execution_count": 22,
   "metadata": {},
   "outputs": [
    {
     "name": "stdout",
     "output_type": "stream",
     "text": [
      "Confusion Matrix and Statistics\n",
      "\n",
      "          Reference\n",
      "Prediction    0    1\n",
      "         0 1264    0\n",
      "         1    2 1172\n",
      "                                         \n",
      "               Accuracy : 0.9992         \n",
      "                 95% CI : (0.997, 0.9999)\n",
      "    No Information Rate : 0.5193         \n",
      "    P-Value [Acc > NIR] : <2e-16         \n",
      "                                         \n",
      "                  Kappa : 0.9984         \n",
      "                                         \n",
      " Mcnemar's Test P-Value : 0.4795         \n",
      "                                         \n",
      "            Sensitivity : 0.9984         \n",
      "            Specificity : 1.0000         \n",
      "         Pos Pred Value : 1.0000         \n",
      "         Neg Pred Value : 0.9983         \n",
      "             Prevalence : 0.5193         \n",
      "         Detection Rate : 0.5185         \n",
      "   Detection Prevalence : 0.5185         \n",
      "      Balanced Accuracy : 0.9992         \n",
      "                                         \n",
      "       'Positive' Class : 0              \n",
      "                                         \n",
      "[1] \"Area under curve (AUC) : 0.999\"\n"
     ]
    }
   ],
   "source": [
    "%%R\n",
    "print(confusionMatrix(factor(testset$class), factor(testset$predicted)))\n",
    "print(sprintf(\n",
    "    \"Area under curve (AUC) : %.3f\",\n",
    "    auc(testset$class, testset$predicted)\n",
    "))"
   ]
  },
  {
   "cell_type": "code",
   "execution_count": 23,
   "metadata": {},
   "outputs": [],
   "source": [
    "%%R\n",
    "dMtrain <-\n",
    "    xgb.DMatrix(as.matrix(trainset %>% select(-class)), label = trainset$class)\n",
    "dMtest <-\n",
    "    xgb.DMatrix(as.matrix(testset %>% select(-class, -predicted)), label = testset$class)\n",
    "\n",
    "params <- list(\n",
    "    \"objective\"           = \"binary:logistic\",\n",
    "    \"eval_metric\"         = \"auc\",\n",
    "    \"eta\"                 = 0.012,\n",
    "    \"subsample\"           = 0.8,\n",
    "    \"max_depth\"           = 8,\n",
    "    \"colsample_bytree\"    = 0.9,\n",
    "    \"min_child_weight\"    = 5\n",
    ")\n"
   ]
  },
  {
   "cell_type": "code",
   "execution_count": 24,
   "metadata": {},
   "outputs": [
    {
     "name": "stdout",
     "output_type": "stream",
     "text": [
      "[1]\ttrain-auc:0.997978+0.000280\ttest-auc:0.997490+0.001169 \n",
      "Multiple eval metrics are present. Will use test_auc for early stopping.\n",
      "Will train until test_auc hasn't improved in 100 rounds.\n",
      "\n",
      "[101]\ttrain-auc:0.999903+0.000007\ttest-auc:0.999896+0.000077 \n",
      "Stopping. Best iteration:\n",
      "[60]\ttrain-auc:0.999907+0.000017\ttest-auc:0.999910+0.000059\n",
      "\n"
     ]
    }
   ],
   "source": [
    "%%R\n",
    "nRounds <- 5000\n",
    "earlyStoppingRound <- 100\n",
    "printEveryN = 100\n",
    "model_xgb.cv <- xgb.cv(\n",
    "    params = params,\n",
    "    data = dMtrain,\n",
    "    maximize = TRUE,\n",
    "    nfold = 5,\n",
    "    nrounds = nRounds,\n",
    "    nthread = 3,\n",
    "    early_stopping_round = earlyStoppingRound,\n",
    "    print_every_n = printEveryN\n",
    ")"
   ]
  },
  {
   "cell_type": "code",
   "execution_count": 25,
   "metadata": {},
   "outputs": [
    {
     "name": "stdout",
     "output_type": "stream",
     "text": [
      "[1]\ttrain-auc:0.999340 \n",
      "Will train until train_auc hasn't improved in 100 rounds.\n",
      "\n",
      "[101]\ttrain-auc:0.999909 \n",
      "Stopping. Best iteration:\n",
      "[9]\ttrain-auc:0.999912\n",
      "\n"
     ]
    }
   ],
   "source": [
    "%%R\n",
    "model_xgb <- xgboost(\n",
    "    params = params,\n",
    "    data = dMtrain,\n",
    "    maximize = TRUE,\n",
    "    nrounds = nRounds,\n",
    "    nthread = 3,\n",
    "    early_stopping_round = earlyStoppingRound,\n",
    "    print_every_n = printEveryN\n",
    ")\n"
   ]
  },
  {
   "cell_type": "code",
   "execution_count": 26,
   "metadata": {},
   "outputs": [],
   "source": [
    "%%R\n",
    "testset$predicted <- round(predict(model_xgb , dMtest), 0)\n",
    "testset_xgboost <- testset$predicted"
   ]
  },
  {
   "cell_type": "code",
   "execution_count": 27,
   "metadata": {},
   "outputs": [
    {
     "name": "stdout",
     "output_type": "stream",
     "text": [
      "png \n",
      "  2 \n"
     ]
    }
   ],
   "source": [
    "%%R\n",
    "tst <- data.frame(testset$predicted, testset$class)\n",
    "opts <- c(\"Predicted\", \"True\")\n",
    "names(tst) <- opts\n",
    "cf <- plyr::count(tst)\n",
    "cf[opts][cf[opts] == 0] <- \"P\"\n",
    "cf[opts][cf[opts] == 1] <- \"E\"\n",
    "pdf(\"r5plot.pdf\",\n",
    "    width = 8,\n",
    "    height = 10,\n",
    "    paper = 'special')\n",
    "transparentTheme(trans = .9)\n",
    "gp <- ggplot(data =  cf, mapping = aes(x = True, y = Predicted)) +\n",
    "    labs(title = \"Confusion matrix\",\n",
    "         subtitle = sprintf(\"Prediction using XGBoost\")) +\n",
    "    geom_tile(aes(fill = freq), colour = \"grey\") +\n",
    "    geom_text(aes(label = sprintf(\"%1.0f\", freq)), vjust = 1) +\n",
    "    scale_fill_gradient(low = \"pink\", high = \"blue\") +\n",
    "    theme_bw() + theme(legend.position = \"none\")\n",
    "print(gp)\n",
    "dev.off()"
   ]
  },
  {
   "cell_type": "code",
   "execution_count": 28,
   "metadata": {},
   "outputs": [
    {
     "data": {
      "image/png": "[encoded data removed]"
     },
     "metadata": {},
     "output_type": "display_data"
    }
   ],
   "source": [
    "%%R\n",
    "ggplot(data =  cf, mapping = aes(x = True, y = Predicted)) +\n",
    "    labs(title = \"Confusion matrix\",\n",
    "         subtitle = sprintf(\"Prediction using XGBoost\")) +\n",
    "    geom_tile(aes(fill = freq), colour = \"grey\") +\n",
    "    geom_text(aes(label = sprintf(\"%1.0f\", freq)), vjust = 1) +\n",
    "    scale_fill_gradient(low = \"pink\", high = \"blue\") +\n",
    "    theme_bw() + theme(legend.position = \"none\")"
   ]
  },
  {
   "cell_type": "code",
   "execution_count": 29,
   "metadata": {
    "scrolled": true
   },
   "outputs": [
    {
     "name": "stdout",
     "output_type": "stream",
     "text": [
      "Confusion Matrix and Statistics\n",
      "\n",
      "          Reference\n",
      "Prediction    0    1\n",
      "         0 1259    5\n",
      "         1    5 1169\n",
      "                                         \n",
      "               Accuracy : 0.9959         \n",
      "                 95% CI : (0.9925, 0.998)\n",
      "    No Information Rate : 0.5185         \n",
      "    P-Value [Acc > NIR] : <2e-16         \n",
      "                                         \n",
      "                  Kappa : 0.9918         \n",
      "                                         \n",
      " Mcnemar's Test P-Value : 1              \n",
      "                                         \n",
      "            Sensitivity : 0.9960         \n",
      "            Specificity : 0.9957         \n",
      "         Pos Pred Value : 0.9960         \n",
      "         Neg Pred Value : 0.9957         \n",
      "             Prevalence : 0.5185         \n",
      "         Detection Rate : 0.5164         \n",
      "   Detection Prevalence : 0.5185         \n",
      "      Balanced Accuracy : 0.9959         \n",
      "                                         \n",
      "       'Positive' Class : 0              \n",
      "                                         \n",
      "[1] \"Area under curve (AUC) : 0.996\"\n"
     ]
    }
   ],
   "source": [
    "%%R\n",
    "print(confusionMatrix(factor(testset$class), factor(testset$predicted)))\n",
    "print(sprintf(\n",
    "    \"Area under curve (AUC) : %.3f\",\n",
    "    auc(testset$class, testset$predicted)\n",
    "))\n"
   ]
  },
  {
   "cell_type": "code",
   "execution_count": 30,
   "metadata": {},
   "outputs": [
    {
     "name": "stdout",
     "output_type": "stream",
     "text": [
      "(8124, 23)\n"
     ]
    }
   ],
   "source": [
    "ds = pd.read_csv('mushrooms.csv')\n",
    "dat = ds.values\n",
    "\n",
    "print(dat.shape)\n",
    "\n",
    "headers = list(ds.columns.values) "
   ]
  },
  {
   "cell_type": "code",
   "execution_count": 31,
   "metadata": {},
   "outputs": [
    {
     "name": "stdout",
     "output_type": "stream",
     "text": [
      "(8124, 23)\n"
     ]
    }
   ],
   "source": [
    "#Data Preprocessing\n",
    "l = pp.LabelEncoder()\n",
    "l.fit(dat[:, 0])\n",
    "dataa = l.transform(dat[:, 0])\n",
    "\n",
    "for ix in range(1, dat.shape[1]):\n",
    "    le = pp.LabelEncoder()\n",
    "    le.fit(dat[:, ix])\n",
    "    y = le.transform(dat[:, ix])\n",
    "    dataa = np.vstack((dataa , y))\n",
    "    \n",
    "data = dataa.T\n",
    "\n",
    "cate = data[:, 0] #One hot encoding for Neural Network implementation\n",
    "\n",
    "print(data.shape)"
   ]
  },
  {
   "cell_type": "code",
   "execution_count": 46,
   "metadata": {},
   "outputs": [
    {
     "name": "stdout",
     "output_type": "stream",
     "text": [
      "(6499, 22) (6499,)\n",
      "(1625, 22) (1625,)\n"
     ]
    }
   ],
   "source": [
    "split = int(0.80 * data.shape[0])\n",
    "\n",
    "x_train = data[:split , 1:]\n",
    "y_train = data[:split, 0]\n",
    "\n",
    "x_test = data[split: , 1:]\n",
    "y_test = data[split: , 0]\n",
    "\n",
    "print(x_train.shape, y_train.shape)\n",
    "print(x_test.shape, y_test.shape)"
   ]
  },
  {
   "cell_type": "code",
   "execution_count": 47,
   "metadata": {},
   "outputs": [
    {
     "name": "stdout",
     "output_type": "stream",
     "text": [
      "(6499, 22) (1625, 22)\n",
      "(6499,) (1625,)\n",
      "(8124, 23)\n"
     ]
    }
   ],
   "source": [
    "y = np_utils.to_categorical(cate)\n",
    "Y_train = y[:split]\n",
    "Y_test = y[split:]\n",
    "\n",
    "print(x_train.shape, x_test.shape)\n",
    "print(y_train.shape, y_test.shape)\n",
    "print(data.shape)"
   ]
  },
  {
   "cell_type": "code",
   "execution_count": 53,
   "metadata": {},
   "outputs": [
    {
     "name": "stdout",
     "output_type": "stream",
     "text": [
      "_________________________________________________________________\n",
      "Layer (type)                 Output Shape              Param #   \n",
      "=================================================================\n",
      "dense_12 (Dense)             (None, 22)                506       \n",
      "_________________________________________________________________\n",
      "activation_12 (Activation)   (None, 22)                0         \n",
      "_________________________________________________________________\n",
      "dense_13 (Dense)             (None, 22)                506       \n",
      "_________________________________________________________________\n",
      "activation_13 (Activation)   (None, 22)                0         \n",
      "_________________________________________________________________\n",
      "dense_14 (Dense)             (None, 2)                 46        \n",
      "_________________________________________________________________\n",
      "activation_14 (Activation)   (None, 2)                 0         \n",
      "=================================================================\n",
      "Total params: 1,058\n",
      "Trainable params: 1,058\n",
      "Non-trainable params: 0\n",
      "_________________________________________________________________\n"
     ]
    }
   ],
   "source": [
    "model = Sequential()\n",
    "\n",
    "model.add(Dense(22, input_shape=(22,)))\n",
    "model.add(Activation('relu'))\n",
    "\n",
    "model.add(Dense(22))\n",
    "model.add(Activation('relu'))\n",
    "\n",
    "\n",
    "model.add(Dense(2))\n",
    "model.add(Activation('softmax'))\n",
    "\n",
    "model.summary()\n",
    "model.compile(loss='categorical_crossentropy', optimizer='adam', metrics=['accuracy'])"
   ]
  },
  {
   "cell_type": "code",
   "execution_count": 54,
   "metadata": {},
   "outputs": [
    {
     "name": "stdout",
     "output_type": "stream",
     "text": [
      "Train on 6499 samples, validate on 1625 samples\n",
      "Epoch 1/100\n",
      "6499/6499 [==============================] - 0s 52us/step - loss: 0.7147 - acc: 0.6136 - val_loss: 0.4162 - val_acc: 0.8782\n",
      "Epoch 2/100\n",
      "6499/6499 [==============================] - 0s 7us/step - loss: 0.5013 - acc: 0.7653 - val_loss: 0.2321 - val_acc: 0.9151\n",
      "Epoch 3/100\n",
      "6499/6499 [==============================] - 0s 6us/step - loss: 0.4009 - acc: 0.8377 - val_loss: 0.1956 - val_acc: 0.9680\n",
      "Epoch 4/100\n",
      "6499/6499 [==============================] - 0s 6us/step - loss: 0.3195 - acc: 0.8851 - val_loss: 0.1668 - val_acc: 0.9711\n",
      "Epoch 5/100\n",
      "6499/6499 [==============================] - 0s 6us/step - loss: 0.2518 - acc: 0.9108 - val_loss: 0.1656 - val_acc: 0.9606\n",
      "Epoch 6/100\n",
      "6499/6499 [==============================] - 0s 7us/step - loss: 0.1979 - acc: 0.9238 - val_loss: 0.1822 - val_acc: 0.9446\n",
      "Epoch 7/100\n",
      "6499/6499 [==============================] - 0s 7us/step - loss: 0.1539 - acc: 0.9400 - val_loss: 0.1995 - val_acc: 0.9311\n",
      "Epoch 8/100\n",
      "6499/6499 [==============================] - 0s 6us/step - loss: 0.1186 - acc: 0.9561 - val_loss: 0.2016 - val_acc: 0.9274\n",
      "Epoch 9/100\n",
      "6499/6499 [==============================] - 0s 6us/step - loss: 0.0910 - acc: 0.9678 - val_loss: 0.2189 - val_acc: 0.9083\n",
      "Epoch 10/100\n",
      "6499/6499 [==============================] - 0s 6us/step - loss: 0.0679 - acc: 0.9805 - val_loss: 0.2367 - val_acc: 0.8917\n",
      "Epoch 11/100\n",
      "6499/6499 [==============================] - 0s 6us/step - loss: 0.0538 - acc: 0.9874 - val_loss: 0.2568 - val_acc: 0.8714\n",
      "Epoch 12/100\n",
      "6499/6499 [==============================] - 0s 6us/step - loss: 0.0427 - acc: 0.9902 - val_loss: 0.2520 - val_acc: 0.8782\n",
      "Epoch 13/100\n",
      "6499/6499 [==============================] - 0s 6us/step - loss: 0.0338 - acc: 0.9937 - val_loss: 0.2285 - val_acc: 0.8978\n",
      "Epoch 14/100\n",
      "6499/6499 [==============================] - 0s 6us/step - loss: 0.0291 - acc: 0.9942 - val_loss: 0.2936 - val_acc: 0.8634\n",
      "Epoch 15/100\n",
      "6499/6499 [==============================] - 0s 7us/step - loss: 0.0239 - acc: 0.9963 - val_loss: 0.2474 - val_acc: 0.8942\n",
      "Epoch 16/100\n",
      "6499/6499 [==============================] - 0s 7us/step - loss: 0.0209 - acc: 0.9972 - val_loss: 0.2379 - val_acc: 0.8991\n",
      "Epoch 17/100\n",
      "6499/6499 [==============================] - 0s 6us/step - loss: 0.0180 - acc: 0.9980 - val_loss: 0.2975 - val_acc: 0.8708\n",
      "Epoch 18/100\n",
      "6499/6499 [==============================] - 0s 8us/step - loss: 0.0158 - acc: 0.9977 - val_loss: 0.2706 - val_acc: 0.8818\n",
      "Epoch 19/100\n",
      "6499/6499 [==============================] - 0s 6us/step - loss: 0.0137 - acc: 0.9986 - val_loss: 0.2394 - val_acc: 0.8985\n",
      "Epoch 20/100\n",
      "6499/6499 [==============================] - 0s 6us/step - loss: 0.0124 - acc: 0.9988 - val_loss: 0.2750 - val_acc: 0.8831\n",
      "Epoch 21/100\n",
      "6499/6499 [==============================] - 0s 6us/step - loss: 0.0111 - acc: 0.9985 - val_loss: 0.2426 - val_acc: 0.9003\n",
      "Epoch 22/100\n",
      "6499/6499 [==============================] - 0s 6us/step - loss: 0.0105 - acc: 0.9986 - val_loss: 0.2054 - val_acc: 0.9175\n",
      "Epoch 23/100\n",
      "6499/6499 [==============================] - 0s 6us/step - loss: 0.0093 - acc: 0.9988 - val_loss: 0.2725 - val_acc: 0.8886\n",
      "Epoch 24/100\n",
      "6499/6499 [==============================] - 0s 6us/step - loss: 0.0083 - acc: 0.9991 - val_loss: 0.2506 - val_acc: 0.8985\n",
      "Epoch 25/100\n",
      "6499/6499 [==============================] - 0s 6us/step - loss: 0.0074 - acc: 0.9994 - val_loss: 0.2533 - val_acc: 0.8960\n",
      "Epoch 26/100\n",
      "6499/6499 [==============================] - 0s 6us/step - loss: 0.0071 - acc: 0.9991 - val_loss: 0.2297 - val_acc: 0.9040\n",
      "Epoch 27/100\n",
      "6499/6499 [==============================] - 0s 6us/step - loss: 0.0062 - acc: 0.9991 - val_loss: 0.1959 - val_acc: 0.9206\n",
      "Epoch 28/100\n",
      "6499/6499 [==============================] - 0s 6us/step - loss: 0.0057 - acc: 0.9992 - val_loss: 0.2031 - val_acc: 0.9194\n",
      "Epoch 29/100\n",
      "6499/6499 [==============================] - 0s 6us/step - loss: 0.0054 - acc: 0.9994 - val_loss: 0.2203 - val_acc: 0.9089\n",
      "Epoch 30/100\n",
      "6499/6499 [==============================] - 0s 6us/step - loss: 0.0051 - acc: 0.9992 - val_loss: 0.2020 - val_acc: 0.9182\n",
      "Epoch 31/100\n",
      "6499/6499 [==============================] - 0s 6us/step - loss: 0.0045 - acc: 0.9995 - val_loss: 0.1822 - val_acc: 0.9243\n",
      "Epoch 32/100\n",
      "6499/6499 [==============================] - 0s 6us/step - loss: 0.0045 - acc: 0.9992 - val_loss: 0.2262 - val_acc: 0.9065\n",
      "Epoch 33/100\n",
      "6499/6499 [==============================] - 0s 6us/step - loss: 0.0037 - acc: 0.9997 - val_loss: 0.1409 - val_acc: 0.9403\n",
      "Epoch 34/100\n",
      "6499/6499 [==============================] - 0s 6us/step - loss: 0.0036 - acc: 0.9995 - val_loss: 0.1593 - val_acc: 0.9391\n",
      "Epoch 35/100\n",
      "6499/6499 [==============================] - 0s 6us/step - loss: 0.0034 - acc: 0.9997 - val_loss: 0.1499 - val_acc: 0.9391\n",
      "Epoch 36/100\n",
      "6499/6499 [==============================] - 0s 6us/step - loss: 0.0031 - acc: 0.9995 - val_loss: 0.1599 - val_acc: 0.9378\n",
      "Epoch 37/100\n",
      "6499/6499 [==============================] - 0s 6us/step - loss: 0.0028 - acc: 0.9997 - val_loss: 0.1635 - val_acc: 0.9366\n",
      "Epoch 38/100\n",
      "6499/6499 [==============================] - 0s 6us/step - loss: 0.0026 - acc: 0.9997 - val_loss: 0.1577 - val_acc: 0.9385\n",
      "Epoch 39/100\n",
      "6499/6499 [==============================] - 0s 6us/step - loss: 0.0025 - acc: 0.9997 - val_loss: 0.1269 - val_acc: 0.9545\n",
      "Epoch 40/100\n",
      "6499/6499 [==============================] - 0s 6us/step - loss: 0.0022 - acc: 0.9997 - val_loss: 0.1356 - val_acc: 0.9495\n",
      "Epoch 41/100\n",
      "6499/6499 [==============================] - 0s 6us/step - loss: 0.0021 - acc: 0.9997 - val_loss: 0.1098 - val_acc: 0.9637\n",
      "Epoch 42/100\n",
      "6499/6499 [==============================] - 0s 6us/step - loss: 0.0021 - acc: 0.9998 - val_loss: 0.1489 - val_acc: 0.9452\n",
      "Epoch 43/100\n",
      "6499/6499 [==============================] - 0s 6us/step - loss: 0.0019 - acc: 0.9997 - val_loss: 0.1191 - val_acc: 0.9625\n",
      "Epoch 44/100\n",
      "6499/6499 [==============================] - 0s 6us/step - loss: 0.0017 - acc: 1.0000 - val_loss: 0.1088 - val_acc: 0.9711\n",
      "Epoch 45/100\n",
      "6499/6499 [==============================] - 0s 6us/step - loss: 0.0017 - acc: 0.9998 - val_loss: 0.1092 - val_acc: 0.9711\n",
      "Epoch 46/100\n",
      "6499/6499 [==============================] - 0s 6us/step - loss: 0.0015 - acc: 0.9998 - val_loss: 0.1102 - val_acc: 0.9705\n",
      "Epoch 47/100\n",
      "6499/6499 [==============================] - 0s 6us/step - loss: 0.0014 - acc: 1.0000 - val_loss: 0.1153 - val_acc: 0.9686\n",
      "Epoch 48/100\n",
      "6499/6499 [==============================] - 0s 6us/step - loss: 0.0013 - acc: 1.0000 - val_loss: 0.1072 - val_acc: 0.9723\n",
      "Epoch 49/100\n",
      "6499/6499 [==============================] - 0s 6us/step - loss: 0.0012 - acc: 1.0000 - val_loss: 0.1134 - val_acc: 0.9717\n",
      "Epoch 50/100\n",
      "6499/6499 [==============================] - 0s 6us/step - loss: 0.0012 - acc: 1.0000 - val_loss: 0.1233 - val_acc: 0.9637\n",
      "Epoch 51/100\n",
      "6499/6499 [==============================] - 0s 6us/step - loss: 0.0011 - acc: 1.0000 - val_loss: 0.1150 - val_acc: 0.9711\n",
      "Epoch 52/100\n",
      "6499/6499 [==============================] - 0s 6us/step - loss: 9.9144e-04 - acc: 1.0000 - val_loss: 0.1110 - val_acc: 0.9711\n",
      "Epoch 53/100\n",
      "6499/6499 [==============================] - 0s 7us/step - loss: 9.5644e-04 - acc: 1.0000 - val_loss: 0.1093 - val_acc: 0.9717\n",
      "Epoch 54/100\n",
      "6499/6499 [==============================] - 0s 6us/step - loss: 9.0064e-04 - acc: 1.0000 - val_loss: 0.0973 - val_acc: 0.9766\n",
      "Epoch 55/100\n",
      "6499/6499 [==============================] - 0s 6us/step - loss: 8.3529e-04 - acc: 1.0000 - val_loss: 0.1016 - val_acc: 0.9760\n",
      "Epoch 56/100\n",
      "6499/6499 [==============================] - 0s 6us/step - loss: 8.2531e-04 - acc: 1.0000 - val_loss: 0.1039 - val_acc: 0.9748\n",
      "Epoch 57/100\n",
      "6499/6499 [==============================] - 0s 6us/step - loss: 7.5893e-04 - acc: 1.0000 - val_loss: 0.1012 - val_acc: 0.9760\n",
      "Epoch 58/100\n",
      "6499/6499 [==============================] - 0s 6us/step - loss: 7.4029e-04 - acc: 1.0000 - val_loss: 0.0914 - val_acc: 0.9785\n",
      "Epoch 59/100\n",
      "6499/6499 [==============================] - 0s 6us/step - loss: 7.6409e-04 - acc: 1.0000 - val_loss: 0.1148 - val_acc: 0.9698\n",
      "Epoch 60/100\n"
     ]
    },
    {
     "name": "stdout",
     "output_type": "stream",
     "text": [
      "6499/6499 [==============================] - 0s 6us/step - loss: 6.4062e-04 - acc: 1.0000 - val_loss: 0.0898 - val_acc: 0.9785\n",
      "Epoch 61/100\n",
      "6499/6499 [==============================] - 0s 6us/step - loss: 6.3906e-04 - acc: 1.0000 - val_loss: 0.1045 - val_acc: 0.9754\n",
      "Epoch 62/100\n",
      "6499/6499 [==============================] - 0s 7us/step - loss: 6.0251e-04 - acc: 1.0000 - val_loss: 0.1074 - val_acc: 0.9735\n",
      "Epoch 63/100\n",
      "6499/6499 [==============================] - 0s 6us/step - loss: 6.0943e-04 - acc: 1.0000 - val_loss: 0.1032 - val_acc: 0.9760\n",
      "Epoch 64/100\n",
      "6499/6499 [==============================] - 0s 6us/step - loss: 5.3400e-04 - acc: 1.0000 - val_loss: 0.0957 - val_acc: 0.9778\n",
      "Epoch 65/100\n",
      "6499/6499 [==============================] - 0s 6us/step - loss: 5.3176e-04 - acc: 1.0000 - val_loss: 0.1073 - val_acc: 0.9723\n",
      "Epoch 66/100\n",
      "6499/6499 [==============================] - 0s 6us/step - loss: 5.1329e-04 - acc: 1.0000 - val_loss: 0.0990 - val_acc: 0.9785\n",
      "Epoch 67/100\n",
      "6499/6499 [==============================] - 0s 6us/step - loss: 4.7075e-04 - acc: 1.0000 - val_loss: 0.1028 - val_acc: 0.9754\n",
      "Epoch 68/100\n",
      "6499/6499 [==============================] - 0s 6us/step - loss: 4.6698e-04 - acc: 1.0000 - val_loss: 0.0949 - val_acc: 0.9785\n",
      "Epoch 69/100\n",
      "6499/6499 [==============================] - 0s 6us/step - loss: 4.3439e-04 - acc: 1.0000 - val_loss: 0.0995 - val_acc: 0.9778\n",
      "Epoch 70/100\n",
      "6499/6499 [==============================] - 0s 6us/step - loss: 4.4104e-04 - acc: 1.0000 - val_loss: 0.0828 - val_acc: 0.9803\n",
      "Epoch 71/100\n",
      "6499/6499 [==============================] - 0s 6us/step - loss: 4.0529e-04 - acc: 1.0000 - val_loss: 0.0907 - val_acc: 0.9797\n",
      "Epoch 72/100\n",
      "6499/6499 [==============================] - 0s 6us/step - loss: 3.8767e-04 - acc: 1.0000 - val_loss: 0.1098 - val_acc: 0.9723\n",
      "Epoch 73/100\n",
      "6499/6499 [==============================] - 0s 6us/step - loss: 3.5450e-04 - acc: 1.0000 - val_loss: 0.0916 - val_acc: 0.9791\n",
      "Epoch 74/100\n",
      "6499/6499 [==============================] - 0s 6us/step - loss: 3.3959e-04 - acc: 1.0000 - val_loss: 0.1014 - val_acc: 0.9760\n",
      "Epoch 75/100\n",
      "6499/6499 [==============================] - 0s 6us/step - loss: 3.2952e-04 - acc: 1.0000 - val_loss: 0.0861 - val_acc: 0.9803\n",
      "Epoch 76/100\n",
      "6499/6499 [==============================] - 0s 6us/step - loss: 3.6350e-04 - acc: 1.0000 - val_loss: 0.1067 - val_acc: 0.9742\n",
      "Epoch 77/100\n",
      "6499/6499 [==============================] - 0s 6us/step - loss: 3.3101e-04 - acc: 1.0000 - val_loss: 0.0850 - val_acc: 0.9809\n",
      "Epoch 78/100\n",
      "6499/6499 [==============================] - 0s 6us/step - loss: 3.1096e-04 - acc: 1.0000 - val_loss: 0.1007 - val_acc: 0.9772\n",
      "Epoch 79/100\n",
      "6499/6499 [==============================] - 0s 6us/step - loss: 2.7414e-04 - acc: 1.0000 - val_loss: 0.0926 - val_acc: 0.9809\n",
      "Epoch 80/100\n",
      "6499/6499 [==============================] - 0s 6us/step - loss: 2.6003e-04 - acc: 1.0000 - val_loss: 0.0844 - val_acc: 0.9809\n",
      "Epoch 81/100\n",
      "6499/6499 [==============================] - 0s 6us/step - loss: 2.5553e-04 - acc: 1.0000 - val_loss: 0.0858 - val_acc: 0.9809\n",
      "Epoch 82/100\n",
      "6499/6499 [==============================] - 0s 6us/step - loss: 2.5449e-04 - acc: 1.0000 - val_loss: 0.0975 - val_acc: 0.9791\n",
      "Epoch 83/100\n",
      "6499/6499 [==============================] - 0s 5us/step - loss: 2.2761e-04 - acc: 1.0000 - val_loss: 0.0902 - val_acc: 0.9803\n",
      "Epoch 84/100\n",
      "6499/6499 [==============================] - 0s 6us/step - loss: 2.2344e-04 - acc: 1.0000 - val_loss: 0.0897 - val_acc: 0.9809\n",
      "Epoch 85/100\n",
      "6499/6499 [==============================] - 0s 6us/step - loss: 2.4480e-04 - acc: 1.0000 - val_loss: 0.0826 - val_acc: 0.9809\n",
      "Epoch 86/100\n",
      "6499/6499 [==============================] - 0s 6us/step - loss: 2.0388e-04 - acc: 1.0000 - val_loss: 0.0808 - val_acc: 0.9815\n",
      "Epoch 87/100\n",
      "6499/6499 [==============================] - 0s 6us/step - loss: 2.1056e-04 - acc: 1.0000 - val_loss: 0.0887 - val_acc: 0.9809\n",
      "Epoch 88/100\n",
      "6499/6499 [==============================] - 0s 7us/step - loss: 1.9258e-04 - acc: 1.0000 - val_loss: 0.0935 - val_acc: 0.9815\n",
      "Epoch 89/100\n",
      "6499/6499 [==============================] - 0s 7us/step - loss: 1.8397e-04 - acc: 1.0000 - val_loss: 0.0842 - val_acc: 0.9809\n",
      "Epoch 90/100\n",
      "6499/6499 [==============================] - 0s 6us/step - loss: 1.6779e-04 - acc: 1.0000 - val_loss: 0.0932 - val_acc: 0.9809\n",
      "Epoch 91/100\n",
      "6499/6499 [==============================] - 0s 6us/step - loss: 1.6326e-04 - acc: 1.0000 - val_loss: 0.0982 - val_acc: 0.9791\n",
      "Epoch 92/100\n",
      "6499/6499 [==============================] - 0s 6us/step - loss: 1.7219e-04 - acc: 1.0000 - val_loss: 0.1000 - val_acc: 0.9791\n",
      "Epoch 93/100\n",
      "6499/6499 [==============================] - 0s 6us/step - loss: 1.5611e-04 - acc: 1.0000 - val_loss: 0.0864 - val_acc: 0.9809\n",
      "Epoch 94/100\n",
      "6499/6499 [==============================] - 0s 6us/step - loss: 1.6022e-04 - acc: 1.0000 - val_loss: 0.0974 - val_acc: 0.9803\n",
      "Epoch 95/100\n",
      "6499/6499 [==============================] - 0s 6us/step - loss: 1.7590e-04 - acc: 1.0000 - val_loss: 0.0927 - val_acc: 0.9809\n",
      "Epoch 96/100\n",
      "6499/6499 [==============================] - 0s 6us/step - loss: 1.4081e-04 - acc: 1.0000 - val_loss: 0.0949 - val_acc: 0.9803\n",
      "Epoch 97/100\n",
      "6499/6499 [==============================] - 0s 5us/step - loss: 1.3130e-04 - acc: 1.0000 - val_loss: 0.0995 - val_acc: 0.9778\n",
      "Epoch 98/100\n",
      "6499/6499 [==============================] - 0s 5us/step - loss: 1.3406e-04 - acc: 1.0000 - val_loss: 0.1025 - val_acc: 0.9766\n",
      "Epoch 99/100\n",
      "6499/6499 [==============================] - 0s 7us/step - loss: 1.2169e-04 - acc: 1.0000 - val_loss: 0.0901 - val_acc: 0.9822\n",
      "Epoch 100/100\n",
      "6499/6499 [==============================] - 0s 6us/step - loss: 1.4069e-04 - acc: 1.0000 - val_loss: 0.0908 - val_acc: 0.9809\n"
     ]
    }
   ],
   "source": [
    "hist = model.fit(x_train, Y_train,\n",
    "         epochs=100,\n",
    "         shuffle=True,\n",
    "         batch_size=128,\n",
    "         validation_data=(x_test, Y_test))"
   ]
  },
  {
   "cell_type": "code",
   "execution_count": 55,
   "metadata": {},
   "outputs": [
    {
     "data": {
      "image/png": "[encoded data removed]",
      "text/plain": [
       "<Figure size 1008x216 with 2 Axes>"
      ]
     },
     "metadata": {
      "needs_background": "light"
     },
     "output_type": "display_data"
    }
   ],
   "source": [
    "plt.figure(figsize=(14,3))\n",
    "plt.subplot(1, 2, 1)\n",
    "plt.suptitle('Optimizer : Adam', fontsize=10)\n",
    "plt.ylabel('Loss', fontsize=16)\n",
    "plt.plot(hist.history['loss'], 'b', label='Training Loss')\n",
    "plt.plot(hist.history['val_loss'], 'r', label='Validation Loss')\n",
    "plt.legend(loc='upper right')\n",
    "\n",
    "plt.subplot(1, 2, 2)\n",
    "plt.ylabel('Accuracy', fontsize=16)\n",
    "plt.plot(hist.history['acc'], 'b', label='Training Accuracy')\n",
    "plt.plot(hist.history['val_acc'], 'r', label='Validation Accuracy')\n",
    "plt.legend(loc='lower right')\n",
    "plt.show()"
   ]
  },
  {
   "cell_type": "code",
   "execution_count": 56,
   "metadata": {},
   "outputs": [],
   "source": [
    "from sklearn.metrics import confusion_matrix,accuracy_score, roc_curve, auc\n",
    "\n",
    "#Predict on test set\n",
    "predictions_NN_prob = model.predict(x_test)\n",
    "predictions_NN_prob = predictions_NN_prob[:,0]\n",
    "\n",
    "predictions_NN_01 = np.where(predictions_NN_prob < 0.5, 1, 0) #Turn probability to 0-1 binary output\n",
    "\n"
   ]
  },
  {
   "cell_type": "code",
   "execution_count": 57,
   "metadata": {},
   "outputs": [
    {
     "name": "stdout",
     "output_type": "stream",
     "text": [
      "Overall accuracy of Neural Network model: 0.9809230769230769\n"
     ]
    }
   ],
   "source": [
    "#Print accuracy\n",
    "acc_NN = accuracy_score(y_test, predictions_NN_01)\n",
    "print('Overall accuracy of Neural Network model:', acc_NN)"
   ]
  }
 ],
 "metadata": {
  "kernelspec": {
   "display_name": "Python 3",
   "language": "python",
   "name": "python3"
  },
  "language_info": {
   "codemirror_mode": {
    "name": "ipython",
    "version": 3
   },
   "file_extension": ".py",
   "mimetype": "text/x-python",
   "name": "python",
   "nbconvert_exporter": "python",
   "pygments_lexer": "ipython3",
   "version": "3.7.3"
  }
 },
 "nbformat": 4,
 "nbformat_minor": 2
}
